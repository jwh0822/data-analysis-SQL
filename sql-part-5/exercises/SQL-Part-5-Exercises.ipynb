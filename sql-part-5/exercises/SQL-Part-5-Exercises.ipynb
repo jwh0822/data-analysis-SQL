{
 "cells": [
  {
   "cell_type": "markdown",
   "metadata": {},
   "source": [
    "# Exercises: Creating, Updating, and Destroying Objects\n",
    "\n",
    "For the exercises, you will be working with objects and data you create. Before opening this notebook, make sure that you have set up the new connection to the server and that you have located the database and your schema.\n",
    "\n",
    "## Object Creation\n",
    "\n",
    "Before coding, think of three things you want to make. These could be coding projects, new recipes, or planned projects for a woodworking hobby. Brainstorm the appropriate column names and data types as well.\n",
    "\n",
    "Create a table under your schema called `planned_makes`."
   ]
  },
  {
   "cell_type": "code",
   "execution_count": null,
   "metadata": {
    "vscode": {
     "languageId": "sql"
    }
   },
   "outputs": [],
   "source": [
    "CREATE TABLE joe_henke.planned_makes (\n",
    "    projectID int IDENTITY(1,1) PRIMARY KEY,\n",
    "    itemName varchar(255),\n",
    "    woodType varchar(255),\n",
    "    costOfWood DECIMAL\n",
    ");"
   ]
  },
  {
   "cell_type": "markdown",
   "metadata": {},
   "source": [
    "Add three rows to your table that are your planned makes."
   ]
  },
  {
   "cell_type": "code",
   "execution_count": null,
   "metadata": {
    "vscode": {
     "languageId": "sql"
    }
   },
   "outputs": [],
   "source": [
    "INSERT INTO joe_henke.planned_makes (itemName,woodType,costOfWood)\n",
    "VALUES ('Coffee Table', 'Oak', 120.99);\n",
    "INSERT INTO joe_henke.planned_makes (itemName,woodType,costOfWood)\n",
    "VALUES ('Desk', 'Oak',245.78);\n",
    "INSERT INTO joe_henke.planned_makes (itemName,woodType,costOfWood)\n",
    "VALUES ('Kitchen Table', 'Cherry', 389.25);"
   ]
  },
  {
   "cell_type": "markdown",
   "metadata": {},
   "source": [
    "## Update a Row\n",
    "\n",
    "Change different values in one of your three rows."
   ]
  },
  {
   "cell_type": "code",
   "execution_count": null,
   "metadata": {
    "vscode": {
     "languageId": "sql"
    }
   },
   "outputs": [],
   "source": [
    "UPDATE joe_henke.planned_makes\n",
    "SET woodType = 'Cherry'\n",
    "WHERE projectId = 2;"
   ]
  },
  {
   "cell_type": "markdown",
   "metadata": {},
   "source": [
    "## Delete a Row\n",
    "\n",
    "Delete one of the rows from your table."
   ]
  },
  {
   "cell_type": "code",
   "execution_count": null,
   "metadata": {
    "vscode": {
     "languageId": "sql"
    }
   },
   "outputs": [],
   "source": [
    "DELETE FROM joe_henke.planned_makes\n",
    "WHERE itemName = 'Coffee Table';"
   ]
  },
  {
   "cell_type": "markdown",
   "metadata": {},
   "source": [
    "## Drop the Table\n",
    "\n",
    "While this has been fun, it is time to drop the table!"
   ]
  },
  {
   "cell_type": "code",
   "execution_count": null,
   "metadata": {
    "vscode": {
     "languageId": "sql"
    }
   },
   "outputs": [],
   "source": [
    "DROP TABLE joe_henke.planned_makes"
   ]
  }
 ],
 "metadata": {
  "language_info": {
   "name": "python"
  }
 },
 "nbformat": 4,
 "nbformat_minor": 2
}
